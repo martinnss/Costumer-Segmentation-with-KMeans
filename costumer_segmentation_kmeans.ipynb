{
 "cells": [
  {
   "cell_type": "markdown",
   "source": [
    "# Costumer Segmentation\r\n",
    "## In this project we want to extract the number of costumer types, i.e., costumer segmentation by using the KMeans algorithm (unsupervised ML) to cluster the data.\r\n"
   ],
   "metadata": {}
  },
  {
   "cell_type": "markdown",
   "source": [
    "### 1)Import Packages"
   ],
   "metadata": {}
  },
  {
   "cell_type": "code",
   "execution_count": 1,
   "source": [
    "import pandas as pd\r\n",
    "import numpy as np\r\n",
    "import seaborn as sns\r\n",
    "import missingno as msno\r\n",
    "import matplotlib.pyplot as plt\r\n",
    "import plotly.graph_objects as go\r\n",
    "import plotly.express as px\r\n",
    "from plotly.subplots import make_subplots\r\n",
    "import warnings\r\n",
    "warnings.filterwarnings(\"ignore\")\r\n"
   ],
   "outputs": [],
   "metadata": {}
  },
  {
   "cell_type": "markdown",
   "source": [
    "### 2) Load the data and study the quality"
   ],
   "metadata": {}
  },
  {
   "cell_type": "code",
   "execution_count": 2,
   "source": [
    "data=pd.read_csv('Mall_Customers.csv')\r\n",
    "print(data.head())"
   ],
   "outputs": [
    {
     "output_type": "stream",
     "name": "stdout",
     "text": [
      "   CustomerID  Gender  Age  Annual Income (k$)  Spending Score (1-100)\n",
      "0           1    Male   19                  15                      39\n",
      "1           2    Male   21                  15                      81\n",
      "2           3  Female   20                  16                       6\n",
      "3           4  Female   23                  16                      77\n",
      "4           5  Female   31                  17                      40\n"
     ]
    }
   ],
   "metadata": {}
  },
  {
   "cell_type": "code",
   "execution_count": 7,
   "source": [
    "print('The number of rows are:',data.shape[0])\r\n",
    "print('The number of columns are:',data.shape[1])\r\n",
    "print('Column names:', data.columns.values)\r\n",
    "print('\\n')\r\n",
    "print('Inspect the types of each columns')\r\n",
    "print(data.dtypes)\r\n",
    "print('\\n')\r\n",
    "print('Inspect the missing data')\r\n",
    "#plot the missing data to visualize more easily \r\n",
    "print(data.isna().sum())\r\n",
    "\r\n",
    "msno.bar(data,fontsize=10,figsize=(10,5))\r\n",
    "plt.title('MISSING VALUES',fontsize=20)\r\n",
    "plt.show()\r\n"
   ],
   "outputs": [
    {
     "output_type": "stream",
     "name": "stdout",
     "text": [
      "The number of rows are: 200\n",
      "The number of columns are: 5\n",
      "Column names: ['CustomerID' 'Gender' 'Age' 'Annual Income (k$)' 'Spending Score (1-100)']\n",
      "\n",
      "\n",
      "Inspect the types of each columns\n",
      "CustomerID                 int64\n",
      "Gender                    object\n",
      "Age                        int64\n",
      "Annual Income (k$)         int64\n",
      "Spending Score (1-100)     int64\n",
      "dtype: object\n",
      "\n",
      "\n",
      "Inspect the missing data\n",
      "CustomerID                0\n",
      "Gender                    0\n",
      "Age                       0\n",
      "Annual Income (k$)        0\n",
      "Spending Score (1-100)    0\n",
      "dtype: int64\n"
     ]
    },
    {
     "output_type": "display_data",
     "data": {
      "text/plain": [
       "<Figure size 720x360 with 3 Axes>"
      ],
      "image/png": "[encoded data removed]"
     },
     "metadata": {
      "needs_background": "light"
     }
    }
   ],
   "metadata": {}
  },
  {
   "cell_type": "markdown",
   "source": [
    "As we can see we dont have any missing values but we need the change the values of the gender column. \r\n",
    "\r\n",
    "0: Male\r\n",
    "1: Female"
   ],
   "metadata": {}
  },
  {
   "cell_type": "code",
   "execution_count": 14,
   "source": [
    "data['Gender'].replace({'Male':0,'Female':1},inplace=True)\r\n",
    "print(data.head())\r\n",
    "print('Inspect if the type of the columns corresponds to the new values')\r\n",
    "print(data.dtypes)"
   ],
   "outputs": [
    {
     "output_type": "stream",
     "name": "stdout",
     "text": [
      "   CustomerID  Gender  Age  Annual Income (k$)  Spending Score (1-100)\n",
      "0           1       0   19                  15                      39\n",
      "1           2       0   21                  15                      81\n",
      "2           3       1   20                  16                       6\n",
      "3           4       1   23                  16                      77\n",
      "4           5       1   31                  17                      40\n",
      "Inspect if the type of the columns corresponds to the new values\n",
      "CustomerID                int64\n",
      "Gender                    int64\n",
      "Age                       int64\n",
      "Annual Income (k$)        int64\n",
      "Spending Score (1-100)    int64\n",
      "dtype: object\n"
     ]
    }
   ],
   "metadata": {}
  },
  {
   "cell_type": "markdown",
   "source": [
    "### 3)Univariate Analysis"
   ],
   "metadata": {}
  },
  {
   "cell_type": "code",
   "execution_count": 16,
   "source": [
    "print(data.describe())"
   ],
   "outputs": [
    {
     "output_type": "stream",
     "name": "stdout",
     "text": [
      "       CustomerID      Gender         Age  Annual Income (k$)  \\\n",
      "count  200.000000  200.000000  200.000000          200.000000   \n",
      "mean   100.500000    0.560000   38.850000           60.560000   \n",
      "std     57.879185    0.497633   13.969007           26.264721   \n",
      "min      1.000000    0.000000   18.000000           15.000000   \n",
      "25%     50.750000    0.000000   28.750000           41.500000   \n",
      "50%    100.500000    1.000000   36.000000           61.500000   \n",
      "75%    150.250000    1.000000   49.000000           78.000000   \n",
      "max    200.000000    1.000000   70.000000          137.000000   \n",
      "\n",
      "       Spending Score (1-100)  \n",
      "count              200.000000  \n",
      "mean                50.200000  \n",
      "std                 25.823522  \n",
      "min                  1.000000  \n",
      "25%                 34.750000  \n",
      "50%                 50.000000  \n",
      "75%                 73.000000  \n",
      "max                 99.000000  \n"
     ]
    }
   ],
   "metadata": {}
  },
  {
   "cell_type": "markdown",
   "source": [],
   "metadata": {}
  },
  {
   "cell_type": "markdown",
   "source": [
    "### 4) bivariate analysis\r\n",
    "hacer un matrix correlation espues un heatmap y por ultimo un pairplot"
   ],
   "metadata": {}
  },
  {
   "cell_type": "markdown",
   "source": [],
   "metadata": {}
  }
 ],
 "metadata": {
  "orig_nbformat": 4,
  "language_info": {
   "name": "python",
   "version": "3.9.5",
   "mimetype": "text/x-python",
   "codemirror_mode": {
    "name": "ipython",
    "version": 3
   },
   "pygments_lexer": "ipython3",
   "nbconvert_exporter": "python",
   "file_extension": ".py"
  },
  "kernelspec": {
   "name": "python3",
   "display_name": "Python 3.9.5 64-bit"
  },
  "interpreter": {
   "hash": "63fd5069d213b44bf678585dea6b12cceca9941eaf7f819626cde1f2670de90d"
  }
 },
 "nbformat": 4,
 "nbformat_minor": 2
}